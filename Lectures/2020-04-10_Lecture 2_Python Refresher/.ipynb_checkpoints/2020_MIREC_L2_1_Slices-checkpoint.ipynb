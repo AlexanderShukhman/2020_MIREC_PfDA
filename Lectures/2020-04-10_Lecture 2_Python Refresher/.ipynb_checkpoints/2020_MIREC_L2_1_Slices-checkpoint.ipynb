{
 "cells": [
  {
   "cell_type": "markdown",
   "metadata": {},
   "source": [
    "10.04.2020 | МИРЭК | 4 модуль\n",
    "\n",
    "*Автор: Татьяна Рогович*\n",
    "\n",
    "# Основы программирования в Python\n",
    "\n",
    "### Лекция 2. Тема 1\n",
    "### Python Refresher: cрезы последовательностей"
   ]
  },
  {
   "cell_type": "markdown",
   "metadata": {},
   "source": [
    "Строки, кортежи и списки представляют собой последовательности, а это значит, что мы можем обратиться к любому их элементу по индексу.\n",
    "\n",
    "Для выполнения такой операции в питоне используются квадратные скобки [] после объекта. \n",
    "В квадратных скобках указывается желаемый индекс. Индексирование начинается с 0."
   ]
  },
  {
   "cell_type": "code",
   "execution_count": 24,
   "metadata": {},
   "outputs": [
    {
     "name": "stdout",
     "output_type": "stream",
     "text": [
      "Welcome to \"Brasil!\"\n",
      "W\n",
      "e\n",
      "l\n",
      "\"\n",
      "!\n",
      "Welcome to \"Brasil!\"\n"
     ]
    }
   ],
   "source": [
    "s = 'Welcome to \"Brasil!\"' # заодно обратите внимание на кавычки внутри кавычек (используем разные типы)\n",
    "print(s)\n",
    "\n",
    "print(s[0]) # первый элемент\n",
    "print(s[1]) # второй\n",
    "print(s[2]) # третий\n",
    "print(s[-1]) # последний\n",
    "print(s[-2]) # второй с конца\n",
    "\n",
    "#Предыдущие действия никак не изменили строку\n",
    "print(s)"
   ]
  },
  {
   "cell_type": "markdown",
   "metadata": {},
   "source": [
    "Кроме выбора одного элемента с помощью индексирования можно получить подстроку. \n",
    "Для этого надо указать индексы границ подстроки через двоеточие. \n",
    "\n",
    "Первое число - от какого индекса начинаем (если здесь ничего не написать, то начнем сначала). Второе число (после первого двоеточия) - каким индексом заканчивается срез (если ничего не написать, то питон возьмет последний символ). Третье число (необязательное, после второго двоеточия) - шаг, по умолчанию там стоит 1 (каждая буква).\n",
    "\n",
    "Таким образом, использовав одно число без двоеточий, мы получим один символ. Использовав два числа через двоеточие - срез строки, включая первый индекс и не включая второй (первое число обязательно меньше второго). Использовав три числа через два двоеточих - срез строки с определенным шагом, заданным третьим числом."
   ]
  },
  {
   "cell_type": "code",
   "execution_count": 25,
   "metadata": {},
   "outputs": [
    {
     "name": "stdout",
     "output_type": "stream",
     "text": [
      "elcome to \"Brasil!\"\n",
      "Welc\n",
      "Welcome to \"Brasil!\"\n",
      "Welcome to \"Brasil!\n",
      "Wloet Bai!\n",
      "\"!lisarB\" ot emocleW\n"
     ]
    }
   ],
   "source": [
    "print(s[1:])\n",
    "print(s[:4]) # четыре первых символа до порядкового номера 4\n",
    "print(s[:]) # копия строки\n",
    "print(s[:-1]) # вся строка кроме последнего символа\n",
    "print(s[::2]) # также можно выбирать символы из строки с каким-то шагом\n",
    "print(s[::-1]) # например, с помощью шага -1 можно получить строку наоборот"
   ]
  },
  {
   "cell_type": "markdown",
   "metadata": {},
   "source": [
    "По аналогии со строками, у списков и кортежей тоже можно брать срезы."
   ]
  },
  {
   "cell_type": "code",
   "execution_count": 1,
   "metadata": {},
   "outputs": [],
   "source": [
    "myList = [0, 1, 2, 3, 4, 5]\n",
    "myTuple = (0, 1, 2, 3, 4, 5)"
   ]
  },
  {
   "cell_type": "code",
   "execution_count": 2,
   "metadata": {},
   "outputs": [
    {
     "name": "stdout",
     "output_type": "stream",
     "text": [
      "[1, 2, 3, 4, 5]\n",
      "(2, 3, 4, 5)\n"
     ]
    }
   ],
   "source": [
    "print(myList[1:]) # берем все, начиная с элемента с первым индексом\n",
    "print(myTuple[2:])"
   ]
  },
  {
   "cell_type": "code",
   "execution_count": 3,
   "metadata": {},
   "outputs": [
    {
     "name": "stdout",
     "output_type": "stream",
     "text": [
      "[0, 1, 2]\n",
      "(0, 1, 2, 3, 4)\n"
     ]
    }
   ],
   "source": [
    "print(myList[:3]) # берем все до элемента с третьим индексом (невключительно)\n",
    "print(myTuple[:-1])"
   ]
  },
  {
   "cell_type": "code",
   "execution_count": 4,
   "metadata": {},
   "outputs": [
    {
     "name": "stdout",
     "output_type": "stream",
     "text": [
      "[0, 2, 4]\n",
      "(1, 3, 5)\n"
     ]
    }
   ],
   "source": [
    "print(myList[::2]) # берем все четные элементы\n",
    "print(myTuple[1::2]) # берем все нечетные элементы"
   ]
  }
 ],
 "metadata": {
  "kernelspec": {
   "display_name": "Python 3",
   "language": "python",
   "name": "python3"
  },
  "language_info": {
   "codemirror_mode": {
    "name": "ipython",
    "version": 3
   },
   "file_extension": ".py",
   "mimetype": "text/x-python",
   "name": "python",
   "nbconvert_exporter": "python",
   "pygments_lexer": "ipython3",
   "version": "3.6.5"
  }
 },
 "nbformat": 4,
 "nbformat_minor": 2
}
